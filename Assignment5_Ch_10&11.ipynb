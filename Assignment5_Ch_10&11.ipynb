{
  "cells": [
    {
      "cell_type": "markdown",
      "metadata": {
        "id": "view-in-github",
        "colab_type": "text"
      },
      "source": [
        "<a href=\"https://colab.research.google.com/github/vinhxtrinh/VinhTrinh_DTSC3020_Fall2025/blob/main/Assignment5_Ch_10%2611.ipynb\" target=\"_parent\"><img src=\"https://colab.research.google.com/assets/colab-badge.svg\" alt=\"Open In Colab\"/></a>"
      ]
    },
    {
      "cell_type": "markdown",
      "id": "9903d230",
      "metadata": {
        "id": "9903d230"
      },
      "source": [
        "# Assignment5: CRM Cleanup @ **DalaShop**\n",
        "*Files (Ch.10), Exceptions (Ch.10), Unit Tests (Ch.11), and Regular Expressions*  \n",
        ".....\n",
        "\n",
        "**Total: 3 points**  (Two questions, 1.5 pts each)  \n",
        "\n",
        "> This assignment is scenario-based and aligned with Python Crash Course Ch.10 (files & exceptions), Ch.11 (unit testing with `unittest`), and Regular Expressions."
      ]
    },
    {
      "cell_type": "markdown",
      "id": "d6487401",
      "metadata": {
        "id": "d6487401"
      },
      "source": [
        "## Scenario\n",
        "You are a data intern at an online retailer called **DalaShop**.  \n",
        "Sales exported a **raw contacts** file from the CRM. It contains customer names, emails, and phone numbers, but the formatting is messy and some emails are invalid.  \n",
        "Your tasks:\n",
        "\n",
        "1. **Clean** the contacts (Files + Exceptions + Regex).  \n",
        "2. **Write unit tests** to make sure your helper functions work correctly and keep working in the future."
      ]
    },
    {
      "cell_type": "markdown",
      "id": "0bd1712f",
      "metadata": {
        "id": "0bd1712f"
      },
      "source": [
        "## Data file (given by the company): `contacts_raw.txt`\n",
        "Use this exact sample data (you may extend it for your own testing, but do **not** change it when submitting).  \n",
        "Run the next cell once to create the file beside your notebook."
      ]
    },
    {
      "cell_type": "code",
      "execution_count": 1,
      "id": "c395a1a8",
      "metadata": {
        "id": "c395a1a8",
        "colab": {
          "base_uri": "https://localhost:8080/"
        },
        "outputId": "866e75f1-a9c4-4a8d-db71-4d7b84434087"
      },
      "outputs": [
        {
          "output_type": "stream",
          "name": "stdout",
          "text": [
            "Wrote contacts_raw.txt with sample DalaShop data.\n"
          ]
        }
      ],
      "source": [
        "# Create the provided company dataset file\n",
        "with open(\"contacts_raw.txt\", \"w\", encoding=\"utf-8\") as f:\n",
        "    f.write('Alice Johnson <alice@example.com> , +1 (469) 555-1234\\nBob Roberts <bob[at]example.com> , 972-555-777\\nSara M. , sara@mail.co , 214 555 8888\\n\"Mehdi A.\" <mehdi.ay@example.org> , (469)555-9999\\nDelaram <delaram@example.io>, +1-972-777-2121\\nNima <NIMA@example.io> , 972.777.2121\\nduplicate <Alice@Example.com> , 469 555 1234')\n",
        "print(\"Wrote contacts_raw.txt with sample DalaShop data.\")"
      ]
    },
    {
      "cell_type": "markdown",
      "id": "1b535f73",
      "metadata": {
        "id": "1b535f73"
      },
      "source": [
        "## Q1 (1.5 pts) — CRM cleanup with Files, Exceptions, and Regex\n",
        "Implement `q1_crm_cleanup.py` to:\n",
        "\n",
        "1. **Read** `contacts_raw.txt` using `pathlib` and `with`. If the file is missing, **handle** it gracefully with `try/except FileNotFoundError` (print a friendly message; do not crash).\n",
        "2. **Validate emails** with a simple regex (`r\"[A-Za-z0-9._%+-]+@[A-Za-z0-9.-]+\\.[A-Za-z]{2,}\"`).  \n",
        "   - Trim whitespace with `strip()` before checking.  \n",
        "   - Use **full** matching (not partial).\n",
        "3. **Normalize phone numbers:** remove all non-digits (e.g., with `re.sub(r\"\\D\", \"\", raw)`).  \n",
        "   - If the result has **≥ 10 digits**, keep the **last 10 digits**.  \n",
        "   - Otherwise, return an **empty string** (`\"\"`).\n",
        "4. **Filter rows:** keep **only** rows with a valid email.\n",
        "5. **Deduplicate:** remove duplicates by **email** using **case-insensitive** comparison (e.g., `email.casefold()`). **Keep the first occurrence** and drop later duplicates.\n",
        "6. **Output CSV:** write to `contacts_clean.csv` with **columns exactly** `name,email,phone` (UTF-8).  \n",
        "7. **Preserve input order:** the order of rows in `contacts_clean.csv` must match the **first appearance** order from the input file. **Do not sort** the rows.\n",
        "\n",
        "**Grading rubric (1.5 pts):**\n",
        "- (0.4) File read/write via `pathlib` + graceful `FileNotFoundError` handling  \n",
        "- (0.5) Correct email regex validation + filtering  \n",
        "- (0.4) Phone normalization + case-insensitive de-dup (keep first)  \n",
        "- (0.2) Clean code, clear names, minimal docstrings/comments"
      ]
    },
    {
      "cell_type": "code",
      "source": [
        "# Write your answer here\n",
        "\n",
        "from pathlib import Path\n",
        "import re\n",
        "import csv\n",
        "\n",
        "EMAIL_PATTERN = r\"^[A-Za-z0-9._%+-]+@[A-Za-z0-9.-]+\\.[A-Za-z]{2,}$\"\n",
        "\n",
        "\n",
        "def clean_phone(phone):\n",
        "    digits = re.sub(r\"\\D\", \"\", phone)\n",
        "    if len(digits) >= 10:\n",
        "        return digits[-10:]\n",
        "    else:\n",
        "        return \"\"\n",
        "\n",
        "\n",
        "def parse_line(line):\n",
        "    parts = [p.strip() for p in line.split(\",\") if p.strip()]\n",
        "    email = \"\"\n",
        "    for p in parts:\n",
        "        if \"@\" in p:\n",
        "            email = p.replace(\"<\", \"\").replace(\">\", \"\").strip()\n",
        "            break\n",
        "    name = parts[0].replace(\"<\", \"\").replace(\">\", \"\").replace(email, \"\").strip()\n",
        "    phone = \"\"\n",
        "    for p in reversed(parts):\n",
        "        if email not in p:\n",
        "            phone = p\n",
        "            break\n",
        "\n",
        "    return name, email, phone\n",
        "\n",
        "\n",
        "def main():\n",
        "    file_path = Path(\"contacts_raw.txt\")\n",
        "\n",
        "    try:\n",
        "        with file_path.open(\"r\", encoding=\"utf-8\") as f:\n",
        "            lines = f.readlines()\n",
        "    except FileNotFoundError:\n",
        "        print(\"File 'contacts_raw.txt' not found. Make sure it’s in the same folder.\")\n",
        "        return\n",
        "    contacts = []\n",
        "    seen_emails = set()\n",
        "    for line in lines:\n",
        "        if not line.strip():\n",
        "            continue\n",
        "\n",
        "        name, email, phone = parse_line(line)\n",
        "        if not re.fullmatch(EMAIL_PATTERN, email):\n",
        "            continue\n",
        "        phone = clean_phone(phone)\n",
        "        email_key = email.lower()\n",
        "        if email_key in seen_emails:\n",
        "            continue\n",
        "        seen_emails.add(email_key)\n",
        "        contacts.append({\"name\": name, \"email\": email, \"phone\": phone})\n",
        "    with open(\"contacts_clean.csv\", \"w\", encoding=\"utf-8\", newline=\"\") as csvfile:\n",
        "        writer = csv.DictWriter(csvfile, fieldnames=[\"name\", \"email\", \"phone\"])\n",
        "        writer.writeheader()\n",
        "        for c in contacts:\n",
        "            writer.writerow(c)\n",
        "\n",
        "    print(\"✅ contacts_clean.csv created successfully!\")\n",
        "\n",
        "if __name__ == \"__main__\":\n",
        "    main()\n"
      ],
      "metadata": {
        "id": "gO9xaHmKNlax",
        "colab": {
          "base_uri": "https://localhost:8080/"
        },
        "outputId": "00dc714c-c42d-4299-ccc9-91fc8006a795"
      },
      "id": "gO9xaHmKNlax",
      "execution_count": 8,
      "outputs": [
        {
          "output_type": "stream",
          "name": "stdout",
          "text": [
            "✅ contacts_clean.csv created successfully!\n"
          ]
        }
      ]
    },
    {
      "cell_type": "markdown",
      "id": "258c5b04",
      "metadata": {
        "id": "258c5b04"
      },
      "source": [
        "## Q2 (1.5 pts) — Unit testing with `unittest`\n",
        "Create tests in `test_crm_cleanup.py` that cover at least:\n",
        "\n",
        "1. **Email validation**: valid/invalid variations.  \n",
        "2. **Phone normalization**: parentheses, dashes, spaces, country code; too-short cases.  \n",
        "3. **Parsing**: from a small multi-line string (not from a file), assert the exact structured rows (name/email/phone).  \n",
        "4. **De-duplication**: demonstrate that a case-variant duplicate email is dropped (first occurrence kept).\n",
        "\n",
        "\n"
      ]
    },
    {
      "cell_type": "code",
      "source": [
        "import unittest\n",
        "import re\n",
        "\n",
        "EMAIL_PATTERN = r\"^[A-Za-z0-9._%+-]+@[A-Za-z0-9.-]+\\.[A-Za-z]{2,}$\"\n",
        "\n",
        "def clean_phone(phone):\n",
        "    digits = re.sub(r\"\\D\", \"\", phone)\n",
        "    if len(digits) >= 10:\n",
        "        return digits[-10:]\n",
        "    else:\n",
        "        return \"\"\n",
        "\n",
        "def parse_line(line):\n",
        "    parts = [p.strip() for p in line.split(\",\") if p.strip()]\n",
        "    if not parts:\n",
        "        return \"\", \"\", \"\"\n",
        "    email = \"\"\n",
        "    email_part_index = None\n",
        "    for i, chunk in enumerate(parts):\n",
        "        cleaned_chunk = chunk.replace(\"<\", \" \").replace(\">\", \" \")\n",
        "        for token in cleaned_chunk.split():\n",
        "            if \"@\" in token:\n",
        "                email = token.strip()\n",
        "                email_part_index = i\n",
        "                break\n",
        "        if email:\n",
        "            break\n",
        "    first_chunk_clean = parts[0].replace(\"<\", \" \").replace(\">\", \" \")\n",
        "    first_tokens = first_chunk_clean.split()\n",
        "    name_tokens = [t for t in first_tokens if t.strip() != email]\n",
        "    name = \" \".join(name_tokens).strip()\n",
        "    if not name:\n",
        "        name = first_chunk_clean.strip()\n",
        "    phone = \"\"\n",
        "    for j in range(len(parts) - 1, -1, -1):\n",
        "        if j != email_part_index:\n",
        "            phone = parts[j]\n",
        "            break\n",
        "    return name, email, phone\n",
        "\n",
        "def run_pipeline_on_lines(lines):\n",
        "    cleaned_contacts = []\n",
        "    seen_emails = set()\n",
        "    for raw_line in lines:\n",
        "        line = raw_line.strip()\n",
        "        if not line:\n",
        "            continue\n",
        "        name, email, phone = parse_line(line)\n",
        "        if not re.fullmatch(EMAIL_PATTERN, email):\n",
        "            continue\n",
        "        phone = clean_phone(phone)\n",
        "        key = email.casefold()\n",
        "        if key in seen_emails:\n",
        "            continue\n",
        "        seen_emails.add(key)\n",
        "        cleaned_contacts.append({\n",
        "            \"name\": name,\n",
        "            \"email\": email,\n",
        "            \"phone\": phone,\n",
        "        })\n",
        "    return cleaned_contacts\n",
        "\n",
        "class TestCRMCleanup(unittest.TestCase):\n",
        "    def test_email_validation(self):\n",
        "        valid_emails = [\n",
        "            \"alice@example.com\",\n",
        "            \"mehdi.ay@example.org\",\n",
        "            \"NIMA@example.io\",\n",
        "            \"first.last+tag@sub.domain.co\",\n",
        "        ]\n",
        "        invalid_emails = [\n",
        "            \"bob[at]example.com\",\n",
        "            \"noatsymbol.com\",\n",
        "            \"bad@\",\n",
        "            \"@bad.com\",\n",
        "            \"a@b\",\n",
        "        ]\n",
        "        for email in valid_emails:\n",
        "            self.assertIsNotNone(re.fullmatch(EMAIL_PATTERN, email))\n",
        "        for email in invalid_emails:\n",
        "            self.assertIsNone(re.fullmatch(EMAIL_PATTERN, email))\n",
        "\n",
        "    def test_clean_phone(self):\n",
        "        self.assertEqual(clean_phone(\"(469) 555-1234\"), \"4695551234\")\n",
        "        self.assertEqual(clean_phone(\"2145558888\"), \"2145558888\")\n",
        "        self.assertEqual(clean_phone(\"+1-972-777-2121\"), \"9727772121\")\n",
        "        self.assertEqual(clean_phone(\"972.777.2121\"), \"9727772121\")\n",
        "        self.assertEqual(clean_phone(\"555-12\"), \"\")\n",
        "\n",
        "    def test_parsing_basic_rows(self):\n",
        "        sample_lines = [\n",
        "            'Alice Johnson <alice@example.com> , +1 (469) 555-1234',\n",
        "            'Sara M. , sara@mail.co , 214 555 8888',\n",
        "            '\"Mehdi A.\" <mehdi.ay@example.org> , (469)555-9999',\n",
        "        ]\n",
        "        cleaned_list = run_pipeline_on_lines(sample_lines)\n",
        "        self.assertEqual(len(cleaned_list), 3)\n",
        "        self.assertEqual(cleaned_list[0][\"name\"], \"Alice Johnson\")\n",
        "        self.assertEqual(cleaned_list[0][\"email\"], \"alice@example.com\")\n",
        "        self.assertEqual(cleaned_list[0][\"phone\"], \"4695551234\")\n",
        "        self.assertEqual(cleaned_list[1][\"name\"], \"Sara M.\")\n",
        "        self.assertEqual(cleaned_list[1][\"email\"], \"sara@mail.co\")\n",
        "        self.assertEqual(cleaned_list[1][\"phone\"], \"2145558888\")\n",
        "        self.assertEqual(cleaned_list[2][\"name\"], '\"Mehdi A.\"')\n",
        "        self.assertEqual(cleaned_list[2][\"email\"], \"mehdi.ay@example.org\")\n",
        "        self.assertEqual(cleaned_list[2][\"phone\"], \"4695559999\")\n",
        "\n",
        "    def test_full_contacts_behavior(self):\n",
        "        contacts_lines = [\n",
        "            'Alice Johnson <alice@example.com> , +1 (469) 555-1234',\n",
        "            'Bob Roberts <bob[at]example.com> , 972-555-777',\n",
        "            'Sara M. , sara@mail.co , 214 555 8888',\n",
        "            '\"Mehdi A.\" <mehdi.ay@example.org> , (469)555-9999',\n",
        "            'Delaram <delaram@example.io>, +1-972-777-2121',\n",
        "            'Nima <NIMA@example.io> , 972.777.2121',\n",
        "            'duplicate <Alice@Example.com> , 469 555 1234',\n",
        "        ]\n",
        "        cleaned_list = run_pipeline_on_lines(contacts_lines)\n",
        "        self.assertEqual(len(cleaned_list), 5)\n",
        "        self.assertEqual(cleaned_list[0][\"name\"], \"Alice Johnson\")\n",
        "        self.assertEqual(cleaned_list[0][\"email\"], \"alice@example.com\")\n",
        "        self.assertEqual(cleaned_list[0][\"phone\"], \"4695551234\")\n",
        "        self.assertEqual(cleaned_list[1][\"name\"], \"Sara M.\")\n",
        "        self.assertEqual(cleaned_list[1][\"email\"], \"sara@mail.co\")\n",
        "        self.assertEqual(cleaned_list[1][\"phone\"], \"2145558888\")\n",
        "        self.assertEqual(cleaned_list[2][\"name\"], '\"Mehdi A.\"')\n",
        "        self.assertEqual(cleaned_list[2][\"email\"], \"mehdi.ay@example.org\")\n",
        "        self.assertEqual(cleaned_list[2][\"phone\"], \"4695559999\")\n",
        "        self.assertEqual(cleaned_list[3][\"name\"], \"Delaram\")\n",
        "        self.assertEqual(cleaned_list[3][\"email\"], \"delaram@example.io\")\n",
        "        self.assertEqual(cleaned_list[3][\"phone\"], \"9727772121\")\n",
        "        self.assertEqual(cleaned_list[4][\"name\"], \"Nima\")\n",
        "        self.assertEqual(cleaned_list[4][\"email\"], \"NIMA@example.io\")\n",
        "        self.assertEqual(cleaned_list[4][\"phone\"], \"9727772121\")\n",
        "\n",
        "if __name__ == \"__main__\":\n",
        "    unittest.main(argv=[\"\"], verbosity=2, exit=False)\n"
      ],
      "metadata": {
        "id": "_M18cJw2NqZm",
        "colab": {
          "base_uri": "https://localhost:8080/"
        },
        "outputId": "72d5a543-6578-4b67-b6e2-f54697d919be"
      },
      "id": "_M18cJw2NqZm",
      "execution_count": 7,
      "outputs": [
        {
          "output_type": "stream",
          "name": "stderr",
          "text": [
            "test_clean_phone (__main__.TestCRMCleanup.test_clean_phone) ... ok\n",
            "test_email_validation (__main__.TestCRMCleanup.test_email_validation) ... ok\n",
            "test_full_contacts_behavior (__main__.TestCRMCleanup.test_full_contacts_behavior) ... ok\n",
            "test_parsing_basic_rows (__main__.TestCRMCleanup.test_parsing_basic_rows) ... ok\n",
            "\n",
            "----------------------------------------------------------------------\n",
            "Ran 4 tests in 0.008s\n",
            "\n",
            "OK\n"
          ]
        }
      ]
    },
    {
      "cell_type": "markdown",
      "id": "f38af38b",
      "metadata": {
        "id": "f38af38b"
      },
      "source": [
        "## Grading rubric (total 3 pts)\n",
        "- **Q1 (1.5 pts)**  \n",
        "  - (0.4) File I/O with `pathlib` + graceful `FileNotFoundError` handling  \n",
        "  - (0.5) Email validation (regex + strip + full match) and filtering  \n",
        "  - (0.4) Phone normalization and **case-insensitive** de-duplication (keep first)  \n",
        "  - (0.2) Code clarity (names, minimal docstrings/comments)\n",
        "- **Q2 (1.5 pts)**  \n",
        "  - (0.6) Meaningful coverage for email/phone functions (valid & invalid)  \n",
        "  - (0.6) Parsing & de-dup tests that assert exact expected rows  \n",
        "  - (0.3) Standard `unittest` structure and readable test names\n"
      ]
    }
  ],
  "metadata": {
    "colab": {
      "provenance": [],
      "include_colab_link": true
    },
    "language_info": {
      "name": "python"
    },
    "kernelspec": {
      "name": "python3",
      "display_name": "Python 3"
    }
  },
  "nbformat": 4,
  "nbformat_minor": 5
}