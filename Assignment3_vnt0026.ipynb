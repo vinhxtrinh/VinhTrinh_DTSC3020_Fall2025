{
  "cells": [
    {
      "cell_type": "markdown",
      "metadata": {
        "id": "view-in-github",
        "colab_type": "text"
      },
      "source": [
        "<a href=\"https://colab.research.google.com/github/vinhxtrinh/VinhTrinh_DTSC3020_Fall2025/blob/main/Assignment3_vnt0026.ipynb\" target=\"_parent\"><img src=\"https://colab.research.google.com/assets/colab-badge.svg\" alt=\"Open In Colab\"/></a>"
      ]
    },
    {
      "cell_type": "markdown",
      "metadata": {
        "id": "nevCG4Qs0b8R"
      },
      "source": [
        "# DTSC 3020 – Assignment 3\n",
        "\n",
        "This exercise focuses on **if statements and conditional logic** in Python and is designed to help students practice decision-making structures.\n",
        "\n",
        "**Total points:** 5  \n",
        "**Deadline:** Friday at midnight  \n",
        "**Submission:** Upload your Python file to your GitHub repository and submit **only your GitHub link**.\n",
        "\n",
        "### Expectations\n",
        "- Write complete answers and run all cells before submission.\n",
        "- Keep the notebook clean (no unnecessary code).\n",
        "\n"
      ],
      "id": "nevCG4Qs0b8R"
    },
    {
      "cell_type": "markdown",
      "metadata": {
        "id": "gfumj0DY0b8f"
      },
      "source": [
        "## Question 1 – Movie Ticket System\n",
        "Write a Python code that checks the price of a movie ticket.\n",
        "If the age is between 0 and 11 it is Child, if between 12 and 17 it is Teen, and if 18 or older it is Adult.\n",
        "Print the category and the ticket price (you choose the price).\n",
        "Run the program with age = 16."
      ],
      "id": "gfumj0DY0b8f"
    },
    {
      "cell_type": "code",
      "metadata": {
        "id": "67TGDT6w0b8k",
        "colab": {
          "base_uri": "https://localhost:8080/"
        },
        "outputId": "3efde2be-cb6e-4112-d989-8e1591d60709"
      },
      "execution_count": 1,
      "outputs": [
        {
          "output_type": "stream",
          "name": "stdout",
          "text": [
            "category:  teen  ticket price: $ 10\n"
          ]
        }
      ],
      "source": [
        "# write your answer here\n",
        "age = 16\n",
        "child = 8\n",
        "teen = 10\n",
        "adult = 12\n",
        "\n",
        "if 0 <= age <= 11:\n",
        "  category = \"child\"\n",
        "  price = child\n",
        "elif 12 <= age <= 17:\n",
        "  category = \"teen\"\n",
        "  price = teen\n",
        "else:\n",
        "  category = \"adult\"\n",
        "  price = adult\n",
        "\n",
        "print(\"category: \", category, \" ticket price: $\", price)\n"
      ],
      "id": "67TGDT6w0b8k"
    },
    {
      "cell_type": "markdown",
      "metadata": {
        "id": "_tUFNVKT0b8r"
      },
      "source": [
        "## Question 2 – Online Store Discount\n",
        "Write a Python code that applies a discount based on the shopping cart total.\n",
        "If the total is less than 50 dollars there is no discount, if the total is between 50 and 99 dollars there is a 10 percent discount, and if the total is 100 dollars or more there is a 20 percent discount.\n",
        "Print the original total, the discount, and the final price.\n",
        "Run the program with cart_total = 85."
      ],
      "id": "_tUFNVKT0b8r"
    },
    {
      "cell_type": "code",
      "metadata": {
        "id": "yTtX719o0b8v",
        "colab": {
          "base_uri": "https://localhost:8080/"
        },
        "outputId": "a3658cba-f930-4234-83f9-ff902df2028f"
      },
      "execution_count": 2,
      "outputs": [
        {
          "output_type": "stream",
          "name": "stdout",
          "text": [
            "old price: $ 85.0  discount: $ 0.1 price: $ 76.5\n"
          ]
        }
      ],
      "source": [
        "# write your answer here\n",
        "total = 85.0\n",
        "\n",
        "if total < 50:\n",
        "  discount = 0.00\n",
        "elif 50 <= total <= 99:\n",
        "  discount = 0.10\n",
        "else:\n",
        "  discount = 0.20\n",
        "\n",
        "discount_total = total * discount\n",
        "price = total - discount_total\n",
        "\n",
        "print(\"old price: $\", total, \" discount: $\", discount, \"price: $\", price)"
      ],
      "id": "yTtX719o0b8v"
    },
    {
      "cell_type": "markdown",
      "metadata": {
        "id": "uOUYYC870b8x"
      },
      "source": [
        "## Question 3 – Exam Grading\n",
        "Write a Python code that gives a letter grade for a score.\n",
        "If the score is between 90 and 100 the grade is A, if between 80 and 89 the grade is B, if between 70 and 79 the grade is C, if between 60 and 69 the grade is D, and if below 60 the grade is F.\n",
        "Print the grade and a short message.\n",
        "Run the program with score = 73."
      ],
      "id": "uOUYYC870b8x"
    },
    {
      "cell_type": "code",
      "metadata": {
        "id": "HDtf_YLG0b8y",
        "colab": {
          "base_uri": "https://localhost:8080/"
        },
        "outputId": "79cf737d-e53e-4526-ff72-9c2b9c6d323f"
      },
      "execution_count": 4,
      "outputs": [
        {
          "output_type": "stream",
          "name": "stdout",
          "text": [
            "score:  73 ,grade:  C  cooment:  Average\n"
          ]
        }
      ],
      "source": [
        "# write your answer here\n",
        "score = 73\n",
        "\n",
        "if 90 <= score <= 100:\n",
        "  grade = \"A\"\n",
        "  msg = \"Excellent\"\n",
        "elif 80 <= score <= 89:\n",
        "  grade = \"B\"\n",
        "  msg = \"Good\"\n",
        "elif 70 <= score <= 79:\n",
        "  grade = \"C\"\n",
        "  msg = \"Average\"\n",
        "elif 60 <= score <= 69:\n",
        "  grade = \"D\"\n",
        "  msg = \"study more\"\n",
        "else:\n",
        "  grade = \"F\"\n",
        "  msg = \"fail\"\n",
        "\n",
        "print(\"score: \", score, \",grade: \", grade, \" cooment: \",msg)"
      ],
      "id": "HDtf_YLG0b8y"
    },
    {
      "cell_type": "markdown",
      "metadata": {
        "id": "ZCIKM6Xs0b80"
      },
      "source": [
        "## Question 4 – Parking Fee\n",
        "Write a Python code that calculates parking fees.\n",
        "If the car is parked for 0 to 2 hours the parking is free, if the car is parked for 3 to 5 hours the fee is 3 dollars per hour, and if the car is parked for more than 5 hours the fee is 3 dollars per hour for the first three hours after free and then 5 dollars per hour for the rest.\n",
        "Print the number of hours and the total fee.\n",
        "Run the program with hours = 6."
      ],
      "id": "ZCIKM6Xs0b80"
    },
    {
      "cell_type": "code",
      "metadata": {
        "id": "g3a_sPo50b81",
        "colab": {
          "base_uri": "https://localhost:8080/"
        },
        "outputId": "dcf71083-4eb3-406b-da5a-2cbdec28656c"
      },
      "execution_count": 5,
      "outputs": [
        {
          "output_type": "stream",
          "name": "stdout",
          "text": [
            "hours:  6  fee:  14\n"
          ]
        }
      ],
      "source": [
        "# write your answer here\n",
        "hour = 6\n",
        "\n",
        "if hour <= 2:\n",
        "  fee = 0\n",
        "elif 3 <= hour <= 5:\n",
        "  valid = hour - 2\n",
        "  fee = valid * 3\n",
        "else:\n",
        "  more = 3 * 3\n",
        "  extra = hour - 5\n",
        "  fee = more + (extra * 5)\n",
        "print(\"hours: \", hour, \" fee: \", fee)"
      ],
      "id": "g3a_sPo50b81"
    },
    {
      "cell_type": "markdown",
      "metadata": {
        "id": "XBf0-SPz0b83"
      },
      "source": [
        "## Question 5 – Cafeteria Menu\n",
        "Write a Python code that creates a list with three food items.\n",
        "Check if an order is in the list.\n",
        "If the item is in the list print a confirmation, and if the item is not in the list print a polite message.\n",
        "Run the program with menu = ['pizza','salad','sandwich'] and order = 'salad'."
      ],
      "id": "XBf0-SPz0b83"
    },
    {
      "cell_type": "code",
      "metadata": {
        "id": "y52UEMoX0b85",
        "colab": {
          "base_uri": "https://localhost:8080/"
        },
        "outputId": "02e800ec-93a9-4e13-b7f8-076cc6ce770b"
      },
      "execution_count": 6,
      "outputs": [
        {
          "output_type": "stream",
          "name": "stdout",
          "text": [
            "Order received\n"
          ]
        }
      ],
      "source": [
        "# write your answer here\n",
        "menu = [\"pizza\",\"salad\",\"sandwich\"]\n",
        "order = \"salad\"\n",
        "\n",
        "if order in menu:\n",
        "  print(\"Order received\")\n",
        "else:\n",
        "  print(\"Order not in the menu\")"
      ],
      "id": "y52UEMoX0b85"
    },
    {
      "cell_type": "markdown",
      "metadata": {
        "id": "-60rL71F0b86"
      },
      "source": [
        "## Question 6 – Job Application Filter\n",
        "Write a Python code that checks if a person is eligible for a job.\n",
        "If the person is older than 22 and has more than 2 years of experience print Accepted.\n",
        "Otherwise print Not Accepted.\n",
        "Run the program with age = 23 and experience = 1."
      ],
      "id": "-60rL71F0b86"
    },
    {
      "cell_type": "code",
      "metadata": {
        "id": "-h964CqY0b88",
        "colab": {
          "base_uri": "https://localhost:8080/"
        },
        "outputId": "b4a3667b-3fd3-4fc6-c68f-2a93a468e0f2"
      },
      "execution_count": 7,
      "outputs": [
        {
          "output_type": "stream",
          "name": "stdout",
          "text": [
            "not accepted\n"
          ]
        }
      ],
      "source": [
        "# write your answer here\n",
        "age = 23\n",
        "exp = 1\n",
        "\n",
        "if age > 22 and exp > 2:\n",
        "  print(\"accepted\")\n",
        "else:\n",
        "  print(\"not accepted\")"
      ],
      "id": "-h964CqY0b88"
    },
    {
      "cell_type": "markdown",
      "metadata": {
        "id": "MOMMxnuE0b8-"
      },
      "source": [
        "## Question 7 – Clothing Advice\n",
        "Write a Python code that suggests clothing based on the temperature.\n",
        "If the temperature is below 10 print Coat and gloves, if the temperature is between 10 and 19 print Jacket, and if the temperature is 20 or more print T-shirt.\n",
        "Run the program with temperature = 15."
      ],
      "id": "MOMMxnuE0b8-"
    },
    {
      "cell_type": "code",
      "metadata": {
        "id": "V6RtrCOa0b8_",
        "colab": {
          "base_uri": "https://localhost:8080/"
        },
        "outputId": "34125f8c-f89a-4004-bc3a-eef362d82eea"
      },
      "execution_count": 8,
      "outputs": [
        {
          "output_type": "stream",
          "name": "stdout",
          "text": [
            "jacket\n"
          ]
        }
      ],
      "source": [
        "# write your answer here\n",
        "temp = 15\n",
        "\n",
        "if temp < 10:\n",
        "  print(\"coat and glove\")\n",
        "elif 10 <= temp <= 19:\n",
        "  print(\"jacket\")\n",
        "else:\n",
        "  print(\"jacket\")"
      ],
      "id": "V6RtrCOa0b8_"
    },
    {
      "cell_type": "markdown",
      "metadata": {
        "id": "R-i9Jzpn0b9A"
      },
      "source": [
        "## Question 8 – Loan Eligibility\n",
        "Write a Python code that checks loan eligibility.\n",
        "If the salary is at least 3000 and the credit score is at least 650 print Loan Approved, otherwise print Loan Denied.\n",
        "Run the program with salary = 3500 and credit_score = 640."
      ],
      "id": "R-i9Jzpn0b9A"
    },
    {
      "cell_type": "code",
      "metadata": {
        "id": "2M0s0bC40b9B",
        "colab": {
          "base_uri": "https://localhost:8080/"
        },
        "outputId": "bae24551-a477-4c21-ddcf-2b2e68ae6234"
      },
      "execution_count": 10,
      "outputs": [
        {
          "output_type": "stream",
          "name": "stdout",
          "text": [
            "loan denied\n"
          ]
        }
      ],
      "source": [
        "# write your answer here\n",
        "salary = 3500\n",
        "credit_score = 640\n",
        "\n",
        "if salary >= 3000 and credit_score >= 650:\n",
        "  print(\"loan approved\")\n",
        "else:\n",
        "  print(\"loan denied\")"
      ],
      "id": "2M0s0bC40b9B"
    },
    {
      "cell_type": "markdown",
      "metadata": {
        "id": "I0WmTyFv0b9D"
      },
      "source": [
        "## Question 9 – Password Strength\n",
        "Write a Python code that checks if a password is strong, medium, or weak based on its length.\n",
        "If the password has fewer than 6 characters it is Weak, if it has 6 to 10 characters it is Medium, and if it has more than 10 characters it is Strong.\n",
        "Print the strength.\n",
        "Run the program with password = 'hello123'."
      ],
      "id": "I0WmTyFv0b9D"
    },
    {
      "cell_type": "code",
      "metadata": {
        "id": "Jm8fu7ft0b9E",
        "colab": {
          "base_uri": "https://localhost:8080/"
        },
        "outputId": "435611aa-e1c2-47aa-96b9-d11ef252392d"
      },
      "execution_count": 11,
      "outputs": [
        {
          "output_type": "stream",
          "name": "stdout",
          "text": [
            "medium\n"
          ]
        }
      ],
      "source": [
        "# write your answer here\n",
        "password = \"hello123\"\n",
        "length = len(password)\n",
        "\n",
        "if length < 6:\n",
        "  result = \"weak\"\n",
        "elif 6 <= length <= 10:\n",
        "  result = \"medium\"\n",
        "else:\n",
        "  result = \"strong\"\n",
        "\n",
        "print(result)"
      ],
      "id": "Jm8fu7ft0b9E"
    },
    {
      "cell_type": "markdown",
      "metadata": {
        "id": "kgKSm4WB0b9F"
      },
      "source": [
        "## Question 10 – Guest List Checker\n",
        "Write a Python code that creates a list with three invited guests.\n",
        "Define a variable for a guest name.\n",
        "Check if the guest name is in the list.\n",
        "If the guest is in the list print Welcome, and if the guest is not in the list print Not on the list.\n",
        "Run the program with guest = 'Sara'."
      ],
      "id": "kgKSm4WB0b9F"
    },
    {
      "cell_type": "code",
      "metadata": {
        "id": "4pyiTbMT0b9G",
        "colab": {
          "base_uri": "https://localhost:8080/"
        },
        "outputId": "8b4ffca4-6e46-4684-bdd3-ce545035fe41"
      },
      "execution_count": 12,
      "outputs": [
        {
          "output_type": "stream",
          "name": "stdout",
          "text": [
            "welcome\n"
          ]
        }
      ],
      "source": [
        "# write your answer here\n",
        "name = [\"sara\", \"susan\", \"luke\"]\n",
        "guest = \"sara\"\n",
        "\n",
        "if guest in name:\n",
        "  print(\"welcome\")\n",
        "else:\n",
        "  print(\"not on the list\")"
      ],
      "id": "4pyiTbMT0b9G"
    }
  ],
  "metadata": {
    "kernelspec": {
      "display_name": "Python 3",
      "language": "python",
      "name": "python3"
    },
    "language_info": {
      "name": "python",
      "version": "3.x"
    },
    "colab": {
      "provenance": [],
      "include_colab_link": true
    }
  },
  "nbformat": 4,
  "nbformat_minor": 5
}