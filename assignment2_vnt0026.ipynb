{
  "nbformat": 4,
  "nbformat_minor": 0,
  "metadata": {
    "colab": {
      "provenance": [],
      "authorship_tag": "ABX9TyNHCLNYF0UgM4wvzm/NJk3r",
      "include_colab_link": true
    },
    "kernelspec": {
      "name": "python3",
      "display_name": "Python 3"
    },
    "language_info": {
      "name": "python"
    }
  },
  "cells": [
    {
      "cell_type": "markdown",
      "metadata": {
        "id": "view-in-github",
        "colab_type": "text"
      },
      "source": [
        "<a href=\"https://colab.research.google.com/github/vinhxtrinh/VinhTrinh_DTSC3020_Fall2025/blob/main/assignment2_vnt0026.ipynb\" target=\"_parent\"><img src=\"https://colab.research.google.com/assets/colab-badge.svg\" alt=\"Open In Colab\"/></a>"
      ]
    },
    {
      "cell_type": "code",
      "execution_count": 1,
      "metadata": {
        "colab": {
          "base_uri": "https://localhost:8080/",
          "height": 0
        },
        "id": "SaGIs8ajHVJX",
        "outputId": "d2c3f712-57a9-495e-fc3b-fd0c79d54e93"
      },
      "outputs": [
        {
          "output_type": "stream",
          "name": "stdout",
          "text": [
            "apple\n",
            "banana\n",
            "orange\n"
          ]
        }
      ],
      "source": [
        "fruit = [\"apple\", \"banana\", \"orange\"]\n",
        "print(fruit[0])\n",
        "print(fruit[1])\n",
        "print(fruit[2])"
      ]
    },
    {
      "cell_type": "code",
      "source": [
        "fruit = [\"apple\", \"banana\", \"orange\",\"grape\"]\n",
        "fruit[0] = \"mango\"\n",
        "print(fruit)"
      ],
      "metadata": {
        "colab": {
          "base_uri": "https://localhost:8080/",
          "height": 0
        },
        "id": "dcg4tP9CISG-",
        "outputId": "ecca1d61-86a8-4149-e111-1454bcc229ea"
      },
      "execution_count": 2,
      "outputs": [
        {
          "output_type": "stream",
          "name": "stdout",
          "text": [
            "['mango', 'banana', 'orange', 'grape']\n"
          ]
        }
      ]
    },
    {
      "cell_type": "code",
      "source": [
        "vehicle = [\"car\", \"bus\", \"bike\", \"truck\", \"scooter\"]\n",
        "vehicle.append(\"train\")\n",
        "print(vehicle)"
      ],
      "metadata": {
        "colab": {
          "base_uri": "https://localhost:8080/",
          "height": 0
        },
        "id": "ucj9OimuI1ww",
        "outputId": "d9ae5388-e329-46c5-be4b-c0fdbee5eb92"
      },
      "execution_count": 3,
      "outputs": [
        {
          "output_type": "stream",
          "name": "stdout",
          "text": [
            "['car', 'bus', 'bike', 'truck', 'scooter', 'train']\n"
          ]
        }
      ]
    },
    {
      "cell_type": "code",
      "source": [
        "food = [\"rice\", \"noodel\", \"pizza\", \"chicken\", \"burger\", \"cheese\"]\n",
        "food.remove(\"cheese\")\n",
        "print(food)"
      ],
      "metadata": {
        "colab": {
          "base_uri": "https://localhost:8080/",
          "height": 0
        },
        "id": "bSzxmE1EJq7U",
        "outputId": "e4129dac-1b6b-42ab-9275-8eca006c62ed"
      },
      "execution_count": 4,
      "outputs": [
        {
          "output_type": "stream",
          "name": "stdout",
          "text": [
            "['rice', 'noodel', 'pizza', 'chicken', 'burger']\n"
          ]
        }
      ]
    },
    {
      "cell_type": "code",
      "source": [
        "city = [\"denton\", \"dallas\", \"tokyo\", \"newyork\"]\n",
        "city.sort()\n",
        "print(city)\n",
        "city.reverse()\n",
        "print(city)"
      ],
      "metadata": {
        "colab": {
          "base_uri": "https://localhost:8080/",
          "height": 0
        },
        "id": "iKL0Cmu0KO2q",
        "outputId": "165568c8-5d30-4853-8240-f58de92eb628"
      },
      "execution_count": 6,
      "outputs": [
        {
          "output_type": "stream",
          "name": "stdout",
          "text": [
            "['dallas', 'denton', 'newyork', 'tokyo']\n",
            "['tokyo', 'newyork', 'denton', 'dallas']\n"
          ]
        }
      ]
    },
    {
      "cell_type": "code",
      "source": [
        "animal = [\"cat\", \"dog\", \"fish\"]\n",
        "for animal in animal:\n",
        "  print(animal)"
      ],
      "metadata": {
        "colab": {
          "base_uri": "https://localhost:8080/",
          "height": 0
        },
        "id": "_ui7Z2cEKxDI",
        "outputId": "08feb659-9799-4c06-8ce3-e0fc24cb12ee"
      },
      "execution_count": 7,
      "outputs": [
        {
          "output_type": "stream",
          "name": "stdout",
          "text": [
            "cat\n",
            "dog\n",
            "fish\n"
          ]
        }
      ]
    },
    {
      "cell_type": "code",
      "source": [
        "num = [1,2,3,4,5]\n",
        "for num in num:\n",
        "  print(num*2)"
      ],
      "metadata": {
        "colab": {
          "base_uri": "https://localhost:8080/",
          "height": 0
        },
        "id": "GAyo7m0EUR3t",
        "outputId": "f6e1adca-f421-429d-c0b5-8d6f5ec99b3c"
      },
      "execution_count": 8,
      "outputs": [
        {
          "output_type": "stream",
          "name": "stdout",
          "text": [
            "2\n",
            "4\n",
            "6\n",
            "8\n",
            "10\n"
          ]
        }
      ]
    },
    {
      "cell_type": "code",
      "source": [
        "friend = ['a','b','c','d', 'e','f']\n",
        "print(friend[:3])\n",
        "print(friend[-3:])"
      ],
      "metadata": {
        "colab": {
          "base_uri": "https://localhost:8080/",
          "height": 0
        },
        "id": "ZhYtZVSWUjoO",
        "outputId": "444ee8c8-c324-4800-bd3a-7d3e668e3141"
      },
      "execution_count": 10,
      "outputs": [
        {
          "output_type": "stream",
          "name": "stdout",
          "text": [
            "['a', 'b', 'c']\n",
            "['d', 'e', 'f']\n"
          ]
        }
      ]
    },
    {
      "cell_type": "code",
      "source": [
        "num = list(range(1,11))\n",
        "print(num)"
      ],
      "metadata": {
        "colab": {
          "base_uri": "https://localhost:8080/",
          "height": 0
        },
        "id": "-s8246RaVTap",
        "outputId": "1a24d5e6-87de-4db5-90f7-8072b53697a2"
      },
      "execution_count": 12,
      "outputs": [
        {
          "output_type": "stream",
          "name": "stdout",
          "text": [
            "[1, 2, 3, 4, 5, 6, 7, 8, 9, 10]\n"
          ]
        }
      ]
    },
    {
      "cell_type": "code",
      "source": [
        "num = [x**2 for x in range(1,6)]\n",
        "print(num)"
      ],
      "metadata": {
        "colab": {
          "base_uri": "https://localhost:8080/",
          "height": 0
        },
        "id": "BcYT1nxGWKnS",
        "outputId": "166c612b-3917-4c8c-bed6-53afe68c8434"
      },
      "execution_count": 14,
      "outputs": [
        {
          "output_type": "stream",
          "name": "stdout",
          "text": [
            "[1, 4, 9, 16, 25]\n"
          ]
        }
      ]
    }
  ]
}